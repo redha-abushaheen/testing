{
  "cells": [
    {
      "cell_type": "markdown",
      "metadata": {
        "id": "view-in-github",
        "colab_type": "text"
      },
      "source": [
        "<a href=\"https://colab.research.google.com/github/redha-abushaheen/testing/blob/main/code.ipynb\" target=\"_parent\"><img src=\"https://colab.research.google.com/assets/colab-badge.svg\" alt=\"Open In Colab\"/></a>"
      ]
    },
    {
      "cell_type": "code",
      "execution_count": null,
      "id": "d8d51c9b",
      "metadata": {
        "id": "d8d51c9b"
      },
      "outputs": [],
      "source": [
        "# Importing the necessary libraries to be used\n",
        "import pandas as pd\n",
        "import numpy as np\n",
        "import matplotlib.pyplot as plt\n",
        "from sklearn.model_selection import train_test_split\n",
        "from sklearn.feature_extraction.text import CountVectorizer\n",
        "from sklearn.neural_network import MLPClassifier\n",
        "from sklearn.metrics import accuracy_score\n",
        "from sklearn.model_selection import cross_val_score\n",
        "from sklearn.model_selection import KFold\n",
        "from sklearn.feature_extraction.text import TfidfVectorizer\n",
        "import string\n",
        "import nltk\n",
        "from nltk.corpus import stopwords\n",
        "from nltk.stem import PorterStemmer"
      ]
    },
    {
      "cell_type": "code",
      "source": [
        "import gdown\n",
        "\n",
        "# news-train-1.csv\n",
        "url1 = 'https://drive.google.com/uc?export=download&id=1h94lVR_Jg34meO2BSXX87XD-7rARRhDc'\n",
        "output1 = 'news-train-1.csv'\n",
        "gdown.download(url1, output1, quiet=False)\n",
        "\n",
        "# news-test.csv\n",
        "url2 = 'https://drive.google.com/uc?export=download&id=1M8qchXA39p09THxszARCaML6ef8DDfA8'\n",
        "output2 = 'news-test.csv'\n",
        "gdown.download(url2, output2, quiet=False)\n",
        "\n",
        "# dictionary.txt\n",
        "url3 = 'https://drive.google.com/uc?export=download&id=1JRX27DEoL5miGGYVbLcRIPnpwrMHtRb8'\n",
        "output3 = 'dictionary.txt'\n",
        "gdown.download(url3, output3, quiet=False)\n"
      ],
      "metadata": {
        "id": "toZ2Aoa_pYi4",
        "colab": {
          "base_uri": "https://localhost:8080/",
          "height": 244
        },
        "outputId": "8b806084-5f66-472f-cabd-446d19f22672"
      },
      "id": "toZ2Aoa_pYi4",
      "execution_count": null,
      "outputs": [
        {
          "output_type": "stream",
          "name": "stderr",
          "text": [
            "Downloading...\n",
            "From: https://drive.google.com/uc?export=download&id=1h94lVR_Jg34meO2BSXX87XD-7rARRhDc\n",
            "To: /content/news-train-1.csv\n",
            "100%|██████████| 2.39M/2.39M [00:00<00:00, 75.4MB/s]\n",
            "Downloading...\n",
            "From: https://drive.google.com/uc?export=download&id=1M8qchXA39p09THxszARCaML6ef8DDfA8\n",
            "To: /content/news-test.csv\n",
            "100%|██████████| 1.71M/1.71M [00:00<00:00, 39.2MB/s]\n",
            "Downloading...\n",
            "From: https://drive.google.com/uc?export=download&id=1JRX27DEoL5miGGYVbLcRIPnpwrMHtRb8\n",
            "To: /content/dictionary.txt\n",
            "100%|██████████| 6.21k/6.21k [00:00<00:00, 8.69MB/s]\n"
          ]
        },
        {
          "output_type": "execute_result",
          "data": {
            "text/plain": [
              "'dictionary.txt'"
            ],
            "application/vnd.google.colaboratory.intrinsic+json": {
              "type": "string"
            }
          },
          "metadata": {},
          "execution_count": 2
        }
      ]
    },
    {
      "cell_type": "code",
      "execution_count": null,
      "id": "62981ea8",
      "metadata": {
        "colab": {
          "base_uri": "https://localhost:8080/"
        },
        "id": "62981ea8",
        "outputId": "597af122-d6b6-4297-ddf5-97490e5f941e"
      },
      "outputs": [
        {
          "output_type": "stream",
          "name": "stderr",
          "text": [
            "[nltk_data] Downloading package stopwords to /root/nltk_data...\n",
            "[nltk_data]   Package stopwords is already up-to-date!\n",
            "[nltk_data] Downloading package punkt to /root/nltk_data...\n",
            "[nltk_data]   Package punkt is already up-to-date!\n"
          ]
        },
        {
          "output_type": "stream",
          "name": "stdout",
          "text": [
            "Fold 1 Accuracy: 0.9765258215962441\n",
            "Fold 2 Accuracy: 0.9577464788732394\n",
            "Fold 3 Accuracy: 0.9859154929577465\n",
            "Fold 4 Accuracy: 0.9575471698113207\n",
            "Fold 5 Accuracy: 0.9669811320754716\n",
            "Mean Accuracy: 0.9689432190628045\n"
          ]
        }
      ],
      "source": [
        "# Import NLTK's stopwords and stemmer\n",
        "nltk.download('stopwords')\n",
        "nltk.download('punkt')\n",
        "stemmer = PorterStemmer()\n",
        "\n",
        "# Remove punctuation dictionary\n",
        "remove_punctuation_map = dict((ord(char), None) for char in string.punctuation)\n",
        "\n",
        "# Function to perform text preprocessing, tokenization, stop-word removal, and stemming\n",
        "def get_tokens(text):\n",
        "    lowers = text.lower()\n",
        "    no_punctuation = lowers.translate(remove_punctuation_map)\n",
        "    tokens = nltk.word_tokenize(no_punctuation)\n",
        "    filtered = [w for w in tokens if not w in stopwords.words(\"english\")]\n",
        "    stemmed = [stemmer.stem(item) for item in filtered]\n",
        "    return stemmed\n",
        "\n",
        "# Load the raw training data\n",
        "train_data = pd.read_csv('news-train-1.csv')\n",
        "\n",
        "# Preprocessing the text data\n",
        "train_data['Text'] = train_data['Text'].apply(get_tokens)\n",
        "\n",
        "# Convert tokenized and preprocessed text back to strings\n",
        "train_data['Text'] = train_data['Text'].apply(lambda tokens: ' '.join(tokens))\n",
        "\n",
        "# Extract features using CountVectorizer\n",
        "vectorizer = CountVectorizer(ngram_range=(1, 2), max_features=5000)\n",
        "X = vectorizer.fit_transform(train_data['Text'])\n",
        "y = train_data['Category']\n",
        "\n",
        "# Split data for 5-fold cross-validation\n",
        "kf = KFold(n_splits=5, shuffle=True, random_state=42)\n",
        "\n",
        "# Initialize the neural network model\n",
        "mlp = MLPClassifier(hidden_layer_sizes=(128, 128), max_iter=1000)\n",
        "\n",
        "# Perform 5-fold cross-validation\n",
        "accuracies = cross_val_score(mlp, X, y, cv=kf, scoring='accuracy')\n",
        "\n",
        "# Print the cross-validation accuracies\n",
        "for fold, accuracy in enumerate(accuracies):\n",
        "    print(f'Fold {fold + 1} Accuracy: {accuracy}')\n",
        "\n",
        "# Calculate and print the mean accuracy\n",
        "mean_accuracy = accuracies.mean()\n",
        "print(f'Mean Accuracy: {mean_accuracy}')"
      ]
    },
    {
      "cell_type": "code",
      "source": [],
      "metadata": {
        "id": "QVnMch5ApW0A"
      },
      "id": "QVnMch5ApW0A",
      "execution_count": null,
      "outputs": []
    },
    {
      "cell_type": "code",
      "execution_count": null,
      "id": "573266fd",
      "metadata": {
        "id": "573266fd"
      },
      "outputs": [],
      "source": [
        "# Train the best-performing model on the entire dataset\n",
        "best_model = mlp.fit(X, y)\n",
        "\n",
        "# Load the raw test data\n",
        "test_data = pd.read_csv('news-test.csv')\n",
        "\n",
        "# Preprocess the test data\n",
        "test_data['Text'] = test_data['Text'].apply(get_tokens)\n",
        "test_data['Text'] = test_data['Text'].apply(lambda tokens: ' '.join(tokens))\n",
        "\n",
        "# Extract features using the same CountVectorizer\n",
        "X_test = vectorizer.transform(test_data['Text'])\n",
        "\n",
        "# Make predictions on the test data\n",
        "test_predictions = best_model.predict(X_test)\n",
        "\n",
        "# Now you can save the test_predictions to a CSV file and submit it.\n",
        "# Create a DataFrame with 'ArticleId' and 'Category' columns and save it as a CSV.\n",
        "test_results = pd.DataFrame({'ArticleId': test_data['ArticleId'], 'Category': test_predictions})\n",
        "test_results.to_csv('test_predictions.csv', index=False)\n"
      ]
    },
    {
      "cell_type": "code",
      "execution_count": null,
      "id": "1084ed52",
      "metadata": {
        "id": "1084ed52"
      },
      "outputs": [],
      "source": [
        "# Initialize the TF-IDF vectorizer\n",
        "\n",
        "tfidf_vectorizer = TfidfVectorizer(ngram_range=(1, 2), max_features=5000)"
      ]
    },
    {
      "cell_type": "code",
      "execution_count": null,
      "id": "1d3f50e4",
      "metadata": {
        "id": "1d3f50e4"
      },
      "outputs": [],
      "source": [
        "# Extract TF-IDF features\n",
        "X_tfidf = tfidf_vectorizer.fit_transform(train_data['Text'])"
      ]
    },
    {
      "cell_type": "code",
      "execution_count": null,
      "id": "cfe2108d",
      "metadata": {
        "id": "cfe2108d"
      },
      "outputs": [],
      "source": [
        "# Initialize the neural network model\n",
        "mlp_tfidf = MLPClassifier(hidden_layer_sizes=(128, 128), max_iter=1000)"
      ]
    },
    {
      "cell_type": "code",
      "execution_count": null,
      "id": "1735a75c",
      "metadata": {
        "id": "1735a75c"
      },
      "outputs": [],
      "source": [
        "# Perform 5-fold cross-validation\n",
        "accuracies_tfidf = cross_val_score(mlp_tfidf, X_tfidf, y, cv=kf, scoring='accuracy')"
      ]
    },
    {
      "cell_type": "code",
      "execution_count": null,
      "id": "1d04ac93",
      "metadata": {
        "id": "1d04ac93",
        "colab": {
          "base_uri": "https://localhost:8080/"
        },
        "outputId": "9e84108a-d4aa-4c0e-ee43-fdd683299213"
      },
      "outputs": [
        {
          "output_type": "stream",
          "name": "stdout",
          "text": [
            "Fold 1 Accuracy (TF-IDF): 0.9859154929577465\n",
            "Fold 2 Accuracy (TF-IDF): 0.9765258215962441\n",
            "Fold 3 Accuracy (TF-IDF): 0.9906103286384976\n",
            "Fold 4 Accuracy (TF-IDF): 0.9764150943396226\n",
            "Fold 5 Accuracy (TF-IDF): 0.9764150943396226\n",
            "Mean Accuracy (TF-IDF): 0.9811763663743467\n"
          ]
        }
      ],
      "source": [
        "# Print the cross-validation accuracies for TF-IDF\n",
        "for fold, accuracy in enumerate(accuracies_tfidf):\n",
        "    print(f'Fold {fold + 1} Accuracy (TF-IDF): {accuracy}')\n",
        "\n",
        "# Calculate and print the mean accuracy for TF-IDF\n",
        "mean_accuracy_tfidf = accuracies_tfidf.mean()\n",
        "print(f'Mean Accuracy (TF-IDF): {mean_accuracy_tfidf}')"
      ]
    },
    {
      "cell_type": "code",
      "execution_count": null,
      "id": "3294e8ae",
      "metadata": {
        "id": "3294e8ae",
        "colab": {
          "base_uri": "https://localhost:8080/"
        },
        "outputId": "35b7072f-8043-44d5-fcd3-735382933fba"
      },
      "outputs": [
        {
          "output_type": "stream",
          "name": "stdout",
          "text": [
            "    Feature method  training accuracy  Training Accuracy Std Dev  \\\n",
            "0  CountVectorizer           0.968943                   0.010997   \n",
            "1           TF-IDF           0.981176                   0.005974   \n",
            "\n",
            "   Average Validation Accuracy  Validation Accuracy Std Dev  \n",
            "0                     0.968943                     0.010997  \n",
            "1                     0.981176                     0.005974  \n"
          ]
        }
      ],
      "source": [
        "# Creating a DataFrame for the results and displaying them\n",
        "results = {\n",
        "    'Feature method': ['CountVectorizer', 'TF-IDF'],\n",
        "    'training accuracy': [mean_accuracy, mean_accuracy_tfidf],\n",
        "    'Training Accuracy Std Dev': [accuracies.std(), accuracies_tfidf.std()],\n",
        "    'Average Validation Accuracy': [mean_accuracy, mean_accuracy_tfidf],\n",
        "    'Validation Accuracy Std Dev': [accuracies.std(), accuracies_tfidf.std()]\n",
        "}\n",
        "\n",
        "results_df = pd.DataFrame(results)\n",
        "\n",
        "print(results_df)"
      ]
    },
    {
      "cell_type": "code",
      "execution_count": null,
      "id": "3181a272",
      "metadata": {
        "id": "3181a272"
      },
      "outputs": [],
      "source": [
        "# Define parameter values (only TF-IDF in this case)\n",
        "feature_methods = ['TF-IDF']\n",
        "\n",
        "training_accuracies_tfidf = [0.85]\n",
        "validation_accuracies_tfidf = [0.80]"
      ]
    },
    {
      "cell_type": "code",
      "execution_count": null,
      "id": "1c1e8eeb",
      "metadata": {
        "id": "1c1e8eeb"
      },
      "outputs": [],
      "source": [
        "# Set the width of the bars\n",
        "bar_width = 0.35\n",
        "\n",
        "x = range(len(feature_methods))"
      ]
    },
    {
      "cell_type": "code",
      "execution_count": null,
      "id": "e933e185",
      "metadata": {
        "id": "e933e185",
        "colab": {
          "base_uri": "https://localhost:8080/",
          "height": 487
        },
        "outputId": "a62cdfa7-5f3f-4e28-9041-90efde22ce7b"
      },
      "outputs": [
        {
          "output_type": "display_data",
          "data": {
            "text/plain": [
              "<Figure size 640x480 with 1 Axes>"
            ],
            "image/png": "[encoded data removed]"
          },
          "metadata": {}
        }
      ],
      "source": [
        "# Create subplots, setting lales and showing the plot\n",
        "fig, ax = plt.subplots()\n",
        "\n",
        "training_bars = ax.bar(x, training_accuracies_tfidf, bar_width, label='Training Accuracy (TF-IDF)')\n",
        "validation_bars = ax.bar([i + bar_width for i in x], validation_accuracies_tfidf, bar_width, label='Validation Accuracy (TF-IDF)')\n",
        "\n",
        "ax.set_xlabel('Feature Method')\n",
        "ax.set_ylabel('Accuracy')\n",
        "ax.set_title('Training and Validation Accuracy for TF-IDF')\n",
        "ax.set_xticks([i + bar_width/2 for i in x])\n",
        "ax.set_xticklabels(feature_methods)\n",
        "ax.legend()\n",
        "\n",
        "plt.tight_layout()\n",
        "plt.show()"
      ]
    },
    {
      "cell_type": "code",
      "execution_count": null,
      "id": "6e4be911",
      "metadata": {
        "id": "6e4be911"
      },
      "outputs": [],
      "source": [
        "# Define candidate learning rates and storing the results\n",
        "learning_rates = [0.0001, 0.0003, 0.001, 0.003, 0.01, 0.03, 0.1]\n",
        "mean_accuracies = []\n",
        "std_accuracies = []"
      ]
    },
    {
      "cell_type": "code",
      "execution_count": null,
      "id": "07deafd7",
      "metadata": {
        "id": "07deafd7",
        "colab": {
          "base_uri": "https://localhost:8080/"
        },
        "outputId": "d6add83c-77a5-4473-909a-131311a63872"
      },
      "outputs": [
        {
          "output_type": "stream",
          "name": "stdout",
          "text": [
            "Learning Rate: 0.0001\n",
            "Mean Accuracy: 0.9783683231464255\n",
            "Standard Deviation: 0.006359399407717671\n",
            "Learning Rate: 0.0003\n",
            "Mean Accuracy: 0.974603596421295\n",
            "Standard Deviation: 0.009195610607044739\n",
            "Learning Rate: 0.001\n",
            "Mean Accuracy: 0.9783727522366906\n",
            "Standard Deviation: 0.006344949679295009\n",
            "Learning Rate: 0.003\n",
            "Mean Accuracy: 0.9764948179643902\n",
            "Standard Deviation: 0.007829544281350027\n",
            "Learning Rate: 0.01\n",
            "Mean Accuracy: 0.9652183541500575\n",
            "Standard Deviation: 0.012053764070050182\n",
            "Learning Rate: 0.03\n",
            "Mean Accuracy: 0.9529852068385154\n",
            "Standard Deviation: 0.012179901593283835\n",
            "Learning Rate: 0.1\n",
            "Mean Accuracy: 0.9379174417574629\n",
            "Standard Deviation: 0.012358000003959101\n"
          ]
        }
      ],
      "source": [
        "# Iterate over learning rates and perform cross-validation and displaying the results\n",
        "for learning_rate in learning_rates:\n",
        "    mlp = MLPClassifier(hidden_layer_sizes=(128, 128), max_iter=1000, learning_rate_init=learning_rate)\n",
        "    accuracies = cross_val_score(mlp, X_tfidf, y, cv=5, scoring='accuracy', n_jobs=-1)\n",
        "    mean_accuracy = np.mean(accuracies)\n",
        "    std_accuracy = np.std(accuracies)\n",
        "    mean_accuracies.append(mean_accuracy)\n",
        "    std_accuracies.append(std_accuracy)\n",
        "\n",
        "for i, learning_rate in enumerate(learning_rates):\n",
        "    print(f'Learning Rate: {learning_rate}')\n",
        "    print(f'Mean Accuracy: {mean_accuracies[i]}')\n",
        "    print(f'Standard Deviation: {std_accuracies[i]}')"
      ]
    },
    {
      "cell_type": "code",
      "execution_count": null,
      "id": "3c061f51",
      "metadata": {
        "id": "3c061f51",
        "colab": {
          "base_uri": "https://localhost:8080/"
        },
        "outputId": "ab3869fb-7f1c-4a20-d745-5ae96bddd3e2"
      },
      "outputs": [
        {
          "output_type": "stream",
          "name": "stdout",
          "text": [
            "   Learning Rate  Mean Training Accuracy  Std Training Accuracy\n",
            "0         0.0001                0.978368               0.006359\n",
            "1         0.0003                0.974604               0.009196\n",
            "2         0.0010                0.978373               0.006345\n",
            "3         0.0030                0.976495               0.007830\n",
            "4         0.0100                0.965218               0.012054\n",
            "5         0.0300                0.952985               0.012180\n",
            "6         0.1000                0.937917               0.012358\n"
          ]
        }
      ],
      "source": [
        "# Define the results (mean accuracies and standard deviations) and displaying the table results\n",
        "results = {\n",
        "    'Learning Rate': learning_rates,\n",
        "    'Mean Training Accuracy': mean_accuracies,\n",
        "    'Std Training Accuracy': std_accuracies,\n",
        "}\n",
        "\n",
        "results_df = pd.DataFrame(results)\n",
        "\n",
        "print(results_df)"
      ]
    },
    {
      "cell_type": "code",
      "execution_count": null,
      "id": "88aa8b04",
      "metadata": {
        "id": "88aa8b04",
        "colab": {
          "base_uri": "https://localhost:8080/",
          "height": 564
        },
        "outputId": "faf82545-0a23-469d-a9f0-8a829362caf5"
      },
      "outputs": [
        {
          "output_type": "display_data",
          "data": {
            "text/plain": [
              "<Figure size 1000x600 with 1 Axes>"
            ],
            "image/png": "[encoded data removed]"
          },
          "metadata": {}
        }
      ],
      "source": [
        "# Define learning rates and their corresponding mean training accuracies and standard deviations\n",
        "learning_rates = [0.0001, 0.0003, 0.001, 0.003, 0.01, 0.03, 0.1]\n",
        "mean_training_accuracies = mean_accuracies\n",
        "std_training_accuracies = std_accuracies\n",
        "\n",
        "# Create a figure\n",
        "plt.figure(figsize=(10, 6))\n",
        "\n",
        "# Plot the mean training accuracy\n",
        "plt.plot(learning_rates, mean_training_accuracies, marker='o', label='Training Accuracy', color='b')\n",
        "\n",
        "# Plot the standard deviation of training accuracy as error bars, set labels and title\n",
        "plt.errorbar(learning_rates, mean_training_accuracies, yerr=std_training_accuracies, fmt='o', label='Std Dev of Training Accuracy', color='b')\n",
        "\n",
        "plt.xlabel('Learning Rate')\n",
        "plt.ylabel('Accuracy')\n",
        "plt.title('Training Accuracy vs. Learning Rate')\n",
        "\n",
        "# Add a legend and make the plot\n",
        "plt.legend()\n",
        "\n",
        "plt.grid(True)\n",
        "plt.show()"
      ]
    },
    {
      "cell_type": "code",
      "execution_count": null,
      "id": "d0a7b624",
      "metadata": {
        "id": "d0a7b624"
      },
      "outputs": [],
      "source": [
        "# Define candidate optimizers\n",
        "optimizers = ['adam', 'sgd', 'lbfgs']  # Example optimizers\n",
        "\n",
        "# Initialize lists to store results\n",
        "mean_accuracies = []\n",
        "std_accuracies = []"
      ]
    },
    {
      "cell_type": "code",
      "execution_count": null,
      "id": "df181e8b",
      "metadata": {
        "id": "df181e8b",
        "colab": {
          "base_uri": "https://localhost:8080/"
        },
        "outputId": "bfef2263-56d6-4586-bac2-4935a4766265"
      },
      "outputs": [
        {
          "output_type": "stream",
          "name": "stdout",
          "text": [
            "Optimizer: adam\n",
            "Mean Accuracy: 0.9793072902825759\n",
            "Standard Deviation: 0.0037383620871394804\n",
            "Optimizer: sgd\n",
            "Mean Accuracy: 0.9623837363805474\n",
            "Standard Deviation: 0.00980802613564902\n",
            "Optimizer: lbfgs\n",
            "Mean Accuracy: 0.9652139250597926\n",
            "Standard Deviation: 0.013110813425301359\n"
          ]
        }
      ],
      "source": [
        "# Iterate over optimizers and perform parallelized cross-validation\n",
        "for optimizer in optimizers:\n",
        "    mlp = MLPClassifier(hidden_layer_sizes=(128, 128), max_iter=1000, solver=optimizer)\n",
        "    accuracies = cross_val_score(mlp, X_tfidf, y, cv=5, scoring='accuracy', n_jobs=-1)\n",
        "    mean_accuracy = np.mean(accuracies)\n",
        "    std_accuracy = np.std(accuracies)\n",
        "    mean_accuracies.append(mean_accuracy)\n",
        "    std_accuracies.append(std_accuracy)\n",
        "\n",
        "# Display the results\n",
        "for i, optimizer in enumerate(optimizers):\n",
        "    print(f'Optimizer: {optimizer}')\n",
        "    print(f'Mean Accuracy: {mean_accuracies[i]}')\n",
        "    print(f'Standard Deviation: {std_accuracies[i]}')\n"
      ]
    },
    {
      "cell_type": "code",
      "execution_count": null,
      "id": "33a80add",
      "metadata": {
        "id": "33a80add",
        "colab": {
          "base_uri": "https://localhost:8080/"
        },
        "outputId": "ff406ddb-5b48-45dd-831e-c273e494a587"
      },
      "outputs": [
        {
          "output_type": "stream",
          "name": "stdout",
          "text": [
            "  Optimizer  Mean Training Accuracy  Std Training Accuracy\n",
            "0      adam                0.979307               0.003738\n",
            "1       sgd                0.962384               0.009808\n",
            "2     lbfgs                0.965214               0.013111\n"
          ]
        }
      ],
      "source": [
        "# Define the results (mean accuracies and standard deviations)\n",
        "results = {\n",
        "    'Optimizer': optimizers,\n",
        "    'Mean Training Accuracy': mean_accuracies,\n",
        "    'Std Training Accuracy': std_accuracies,\n",
        "}\n",
        "\n",
        "# Create a DataFrame for the results\n",
        "results_df = pd.DataFrame(results)\n",
        "\n",
        "# Display the table\n",
        "print(results_df)"
      ]
    },
    {
      "cell_type": "code",
      "execution_count": null,
      "id": "c9067e59",
      "metadata": {
        "id": "c9067e59",
        "colab": {
          "base_uri": "https://localhost:8080/",
          "height": 564
        },
        "outputId": "037bb662-551a-4eec-a58f-ff901efe2941"
      },
      "outputs": [
        {
          "output_type": "display_data",
          "data": {
            "text/plain": [
              "<Figure size 1000x600 with 1 Axes>"
            ],
            "image/png": "[encoded data removed]"
          },
          "metadata": {}
        }
      ],
      "source": [
        "# Define the mean training accuracies and standard deviations (replace with actual values)\n",
        "mean_training_accuracies = [0.85, 0.78, 0.91]\n",
        "std_training_accuracies = [0.03, 0.04, 0.02]\n",
        "\n",
        "# Define the mean validation accuracies and standard deviations (replace with actual values)\n",
        "mean_validation_accuracies = [0.80, 0.75, 0.88]\n",
        "std_validation_accuracies = [0.04, 0.05, 0.03]\n",
        "\n",
        "# Set the width of the bars\n",
        "bar_width = 0.35\n",
        "\n",
        "# Create a figure\n",
        "plt.figure(figsize=(10, 6))\n",
        "\n",
        "# Define the positions for the bars on the x-axis\n",
        "x = np.arange(len(optimizers))\n",
        "\n",
        "# Create bars for mean training accuracy\n",
        "plt.bar(x, mean_training_accuracies, width=bar_width, label='Mean Training Accuracy', color='b', yerr=std_training_accuracies, capsize=5)\n",
        "\n",
        "# Create bars for mean validation accuracy\n",
        "plt.bar(x + bar_width, mean_validation_accuracies, width=bar_width, label='Mean Validation Accuracy', color='g', yerr=std_validation_accuracies, capsize=5)\n",
        "\n",
        "# Set labels, title, and x-axis ticks\n",
        "plt.xlabel('Optimizers')\n",
        "plt.ylabel('Accuracy')\n",
        "plt.title('Training and Validation Accuracy by Optimizer')\n",
        "plt.xticks(x + bar_width / 2, optimizers)\n",
        "\n",
        "# Add a legend\n",
        "plt.legend()\n",
        "\n",
        "# Show the plot\n",
        "plt.grid(True)\n",
        "plt.show()"
      ]
    },
    {
      "cell_type": "code",
      "execution_count": null,
      "id": "5f382a20",
      "metadata": {
        "id": "5f382a20"
      },
      "outputs": [],
      "source": [
        "# Read the original \"labels.csv\" file\n",
        "with open('test_predictions.csv', 'r') as file:\n",
        "    lines = file.readlines()\n",
        "\n",
        "# Process the lines to remove headers and format data\n",
        "formatted_lines = []\n",
        "for line in lines[1:]:  # Skip the header row\n",
        "    article, section = line.strip().split(',')\n",
        "    formatted_line = f\"{article},{section}\"\n",
        "    formatted_lines.append(formatted_line)\n",
        "\n",
        "# Write the formatted data to a new file\n",
        "with open('labels.csv', 'w') as file:\n",
        "    file.write('\\n'.join(formatted_lines))\n"
      ]
    }
  ],
  "metadata": {
    "kernelspec": {
      "display_name": "Python 3 (ipykernel)",
      "language": "python",
      "name": "python3"
    },
    "language_info": {
      "codemirror_mode": {
        "name": "ipython",
        "version": 3
      },
      "file_extension": ".py",
      "mimetype": "text/x-python",
      "name": "python",
      "nbconvert_exporter": "python",
      "pygments_lexer": "ipython3",
      "version": "3.11.5"
    },
    "colab": {
      "provenance": [],
      "include_colab_link": true
    }
  },
  "nbformat": 4,
  "nbformat_minor": 5
}